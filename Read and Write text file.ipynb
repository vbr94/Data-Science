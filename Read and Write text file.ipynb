{
    "nbformat_minor": 1, 
    "cells": [
        {
            "source": "#To write in a file use below query and one can write the things only inside the file.write(..)\nwith open (\"example.txt\",\"w\") as file:\n    file.write(\"Hello World\")", 
            "cell_type": "code", 
            "metadata": {}, 
            "outputs": [], 
            "execution_count": 1
        }, 
        {
            "source": "!ls", 
            "cell_type": "code", 
            "metadata": {}, 
            "outputs": [
                {
                    "output_type": "stream", 
                    "name": "stdout", 
                    "text": "example.txt\r\n"
                }
            ], 
            "execution_count": 2
        }, 
        {
            "source": "#To read a file use below query and one can read the things only inside the file.read(..)\nwith open(\"example.txt\",\"r\") as file:\n    print(file.read())", 
            "cell_type": "code", 
            "metadata": {}, 
            "outputs": [
                {
                    "output_type": "stream", 
                    "name": "stdout", 
                    "text": "Hello World\n"
                }
            ], 
            "execution_count": 4
        }, 
        {
            "source": "#To append new lines in the same file use below query\nwith open (\"example.txt\",\"a\") as file:\n    file.write(\"\\nHello Python\")\n    file.write(\"\\nHello Jupyter\")\n    file.write(\"\\nHello Data Science\")", 
            "cell_type": "code", 
            "metadata": {}, 
            "outputs": [], 
            "execution_count": 5
        }, 
        {
            "source": "with open(\"example.txt\",\"r\") as file:\n    print(file.read())", 
            "cell_type": "code", 
            "metadata": {}, 
            "outputs": [
                {
                    "output_type": "stream", 
                    "name": "stdout", 
                    "text": "Hello World\nHello Python\nHello Jupyter\nHello Data Science\n"
                }
            ], 
            "execution_count": 6
        }, 
        {
            "source": "with open(\"example.txt\",\"r\") as file:\n    print(file.readline())\n    print(file.readline())", 
            "cell_type": "code", 
            "metadata": {}, 
            "outputs": [
                {
                    "output_type": "stream", 
                    "name": "stdout", 
                    "text": "Hello World\n\nHello Python\n\n"
                }
            ], 
            "execution_count": 7
        }, 
        {
            "source": "with open(\"example.txt\",\"r\") as file:\n    print(file.readline(5))\n    print(file.readline(5)) # not used \n    print(file.read(2)) # must be used ", 
            "cell_type": "code", 
            "metadata": {}, 
            "outputs": [
                {
                    "output_type": "stream", 
                    "name": "stdout", 
                    "text": "Hello\n Worl\nd\n\n"
                }
            ], 
            "execution_count": 14
        }, 
        {
            "source": "# this could be used to write a list in a text file\nseq = [\"This is line 1\\n\",\"This is line 2\"]\nwith open(\"example1.txt\",\"a\") as file:\n    for line in seq:\n        file.write(line)", 
            "cell_type": "code", 
            "metadata": {}, 
            "outputs": [], 
            "execution_count": 15
        }, 
        {
            "source": "with open (\"example1.txt\",\"r\") as file:\n    print(file.read())", 
            "cell_type": "code", 
            "metadata": {}, 
            "outputs": [
                {
                    "output_type": "stream", 
                    "name": "stdout", 
                    "text": "This is line 1\nThis is line 2\n"
                }
            ], 
            "execution_count": 16
        }, 
        {
            "source": "# another way to write list\nseq = [\"This is line 1\\n\",\"This is line 2\"]\nwith open(\"example2.txt\",\"a\") as file:\n        file.writelines(seq)", 
            "cell_type": "code", 
            "metadata": {}, 
            "outputs": [], 
            "execution_count": 17
        }, 
        {
            "source": "with open (\"example2.txt\",\"r\") as file:\n    print(file.read())", 
            "cell_type": "code", 
            "metadata": {}, 
            "outputs": [
                {
                    "output_type": "stream", 
                    "name": "stdout", 
                    "text": "This is line 1\nThis is line 2\n"
                }
            ], 
            "execution_count": 18
        }, 
        {
            "source": "with open (\"example2.txt\",\"r\") as file:\n    print(file.readlines())", 
            "cell_type": "code", 
            "metadata": {}, 
            "outputs": [
                {
                    "output_type": "stream", 
                    "name": "stdout", 
                    "text": "['This is line 1\\n', 'This is line 2']\n"
                }
            ], 
            "execution_count": 19
        }, 
        {
            "source": "# to make a csv file\nseq = [\"Vinayak,\", \"Rai\" ,\"\\n\", \"Sadhana,\", \"Upadhyay\"]\nwith open (\"example3.csv\",\"a\") as file:\n    file.writelines(seq)\n    ", 
            "cell_type": "code", 
            "metadata": {}, 
            "outputs": [], 
            "execution_count": 23
        }, 
        {
            "source": "with open(\"example3.csv\",\"r\") as file:\n    print(file.read())", 
            "cell_type": "code", 
            "metadata": {}, 
            "outputs": [
                {
                    "output_type": "stream", 
                    "name": "stdout", 
                    "text": "Vinayak,Rai\nSadhana,Upadhyay\n"
                }
            ], 
            "execution_count": 24
        }, 
        {
            "source": "#to use pandas\nimport pandas as pd\n", 
            "cell_type": "code", 
            "metadata": {}, 
            "outputs": [], 
            "execution_count": 25
        }, 
        {
            "source": "df = pd.read_csv(\"example3.csv\", header = None)\ndf", 
            "cell_type": "code", 
            "metadata": {}, 
            "outputs": [
                {
                    "output_type": "execute_result", 
                    "data": {
                        "text/plain": "         0         1\n0  Vinayak       Rai\n1  Sadhana  Upadhyay", 
                        "text/html": "<div>\n<style scoped>\n    .dataframe tbody tr th:only-of-type {\n        vertical-align: middle;\n    }\n\n    .dataframe tbody tr th {\n        vertical-align: top;\n    }\n\n    .dataframe thead th {\n        text-align: right;\n    }\n</style>\n<table border=\"1\" class=\"dataframe\">\n  <thead>\n    <tr style=\"text-align: right;\">\n      <th></th>\n      <th>0</th>\n      <th>1</th>\n    </tr>\n  </thead>\n  <tbody>\n    <tr>\n      <th>0</th>\n      <td>Vinayak</td>\n      <td>Rai</td>\n    </tr>\n    <tr>\n      <th>1</th>\n      <td>Sadhana</td>\n      <td>Upadhyay</td>\n    </tr>\n  </tbody>\n</table>\n</div>"
                    }, 
                    "execution_count": 26, 
                    "metadata": {}
                }
            ], 
            "execution_count": 26
        }, 
        {
            "source": "df = pd.read_csv(\"example3.csv\", header = None, names=['A' , 'B'])\ndf", 
            "cell_type": "code", 
            "metadata": {}, 
            "outputs": [
                {
                    "output_type": "execute_result", 
                    "data": {
                        "text/plain": "         A         B\n0  Vinayak       Rai\n1  Sadhana  Upadhyay", 
                        "text/html": "<div>\n<style scoped>\n    .dataframe tbody tr th:only-of-type {\n        vertical-align: middle;\n    }\n\n    .dataframe tbody tr th {\n        vertical-align: top;\n    }\n\n    .dataframe thead th {\n        text-align: right;\n    }\n</style>\n<table border=\"1\" class=\"dataframe\">\n  <thead>\n    <tr style=\"text-align: right;\">\n      <th></th>\n      <th>A</th>\n      <th>B</th>\n    </tr>\n  </thead>\n  <tbody>\n    <tr>\n      <th>0</th>\n      <td>Vinayak</td>\n      <td>Rai</td>\n    </tr>\n    <tr>\n      <th>1</th>\n      <td>Sadhana</td>\n      <td>Upadhyay</td>\n    </tr>\n  </tbody>\n</table>\n</div>"
                    }, 
                    "execution_count": 28, 
                    "metadata": {}
                }
            ], 
            "execution_count": 28
        }, 
        {
            "source": "", 
            "cell_type": "code", 
            "metadata": {}, 
            "outputs": [], 
            "execution_count": null
        }
    ], 
    "metadata": {
        "kernelspec": {
            "display_name": "Python 3.5", 
            "name": "python3", 
            "language": "python"
        }, 
        "language_info": {
            "mimetype": "text/x-python", 
            "nbconvert_exporter": "python", 
            "version": "3.5.5", 
            "name": "python", 
            "pygments_lexer": "ipython3", 
            "file_extension": ".py", 
            "codemirror_mode": {
                "version": 3, 
                "name": "ipython"
            }
        }
    }, 
    "nbformat": 4
}